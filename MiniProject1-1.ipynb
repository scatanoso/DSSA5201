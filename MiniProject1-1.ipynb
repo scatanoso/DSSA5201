{
 "cells": [
  {
   "cell_type": "markdown",
   "metadata": {},
   "source": [
    "## Loading a file; Working with lists; Enumerating; Sequencing thru multiple lists at once with zip\n",
    "\n",
    "\n",
    "This command is just to make the screen display wider so you can see the records without them wrapping"
   ]
  },
  {
   "cell_type": "code",
   "execution_count": 27,
   "metadata": {},
   "outputs": [
    {
     "data": {
      "text/html": [
       "<style>.container {width:100% !important; }</style>"
      ],
      "text/plain": [
       "<IPython.core.display.HTML object>"
      ]
     },
     "metadata": {},
     "output_type": "display_data"
    }
   ],
   "source": [
    "from IPython.core.display import display, HTML\n",
    "display(HTML(\"<style>.container {width:100% !important; }</style>\"))"
   ]
  },
  {
   "cell_type": "markdown",
   "metadata": {},
   "source": [
    "Read in csv file as data which then creates data as a list with a first row (record) as 0 containing the column headings"
   ]
  },
  {
   "cell_type": "code",
   "execution_count": 4,
   "metadata": {},
   "outputs": [],
   "source": [
    "with open(\"userssharedsdfschoolimprovement2010grants.csv\", 'r') as f:\n",
    "    data = f.readlines()"
   ]
  },
  {
   "cell_type": "code",
   "execution_count": 5,
   "metadata": {},
   "outputs": [
    {
     "data": {
      "text/plain": [
       "list"
      ]
     },
     "execution_count": 5,
     "metadata": {},
     "output_type": "execute_result"
    }
   ],
   "source": [
    "type(data)"
   ]
  },
  {
   "cell_type": "code",
   "execution_count": 6,
   "metadata": {},
   "outputs": [
    {
     "data": {
      "text/plain": [
       "'School Name,City,State,District Name,2010/11/Award Amount,Model Selected,Location\\n'"
      ]
     },
     "execution_count": 6,
     "metadata": {},
     "output_type": "execute_result"
    }
   ],
   "source": [
    "data[0]"
   ]
  },
  {
   "cell_type": "code",
   "execution_count": 8,
   "metadata": {},
   "outputs": [
    {
     "data": {
      "text/plain": [
       "['School Name,City,State,District Name,2010/11/Award Amount,Model Selected,Location\\n',\n",
       " 'HOGARTH KINGEEKUK MEMORIAL SCHOOL,SAVOONGA,AK,BERING STRAIT SCHOOL DISTRICT,$471014.00,Transformation,\"200 MAIN ST\\n',\n",
       " 'SAVOONGA, AK 99769\\n',\n",
       " '(63.6687, -170.603)\"\\n',\n",
       " 'AKIACHAK SCHOOL,AKIACHAK,AK,YUPIIT SCHOOL DISTRICT,$520579.00,Transformation,\"AKIACHAK 51100\\n',\n",
       " 'AKIACHAK, AK 99551\\n',\n",
       " '(60.8911, -161.376)\"\\n',\n",
       " 'GAMBELL SCHOOL,GAMBELL,AK,BERING STRAIT SCHOOL DISTRICT,$449592.00,Transformation,\"169 MAIN ST\\n',\n",
       " 'GAMBELL, AK 99742\\n',\n",
       " '(63.7413, -171.689)\"\\n']"
      ]
     },
     "execution_count": 8,
     "metadata": {},
     "output_type": "execute_result"
    }
   ],
   "source": [
    "data[0:10]"
   ]
  },
  {
   "cell_type": "markdown",
   "metadata": {},
   "source": [
    "Test - believe each record is 3 lines in the CSV file.  Divide lines less 1 (because it is the header row) divides evenly by 3"
   ]
  },
  {
   "cell_type": "code",
   "execution_count": 9,
   "metadata": {},
   "outputs": [
    {
     "data": {
      "text/plain": [
       "831.0"
      ]
     },
     "execution_count": 9,
     "metadata": {},
     "output_type": "execute_result"
    }
   ],
   "source": [
    "(len(data)-1)/3"
   ]
  },
  {
   "cell_type": "markdown",
   "metadata": {},
   "source": [
    "Verify that the total lines expected in the CSV file is what is in the CSV file"
   ]
  },
  {
   "cell_type": "code",
   "execution_count": 10,
   "metadata": {},
   "outputs": [
    {
     "data": {
      "text/plain": [
       "2494"
      ]
     },
     "execution_count": 10,
     "metadata": {},
     "output_type": "execute_result"
    }
   ],
   "source": [
    "831 * 3 + 1"
   ]
  },
  {
   "cell_type": "markdown",
   "metadata": {},
   "source": [
    "Assign the first row which is the header info to columns"
   ]
  },
  {
   "cell_type": "code",
   "execution_count": 11,
   "metadata": {},
   "outputs": [],
   "source": [
    "columns = data[0]"
   ]
  },
  {
   "cell_type": "code",
   "execution_count": 12,
   "metadata": {},
   "outputs": [
    {
     "data": {
      "text/plain": [
       "'School Name,City,State,District Name,2010/11/Award Amount,Model Selected,Location\\n'"
      ]
     },
     "execution_count": 12,
     "metadata": {},
     "output_type": "execute_result"
    }
   ],
   "source": [
    "columns"
   ]
  },
  {
   "cell_type": "code",
   "execution_count": 14,
   "metadata": {},
   "outputs": [
    {
     "data": {
      "text/plain": [
       "['HOGARTH KINGEEKUK MEMORIAL SCHOOL,SAVOONGA,AK,BERING STRAIT SCHOOL DISTRICT,$471014.00,Transformation,\"200 MAIN ST\\n',\n",
       " 'SAVOONGA, AK 99769\\n',\n",
       " '(63.6687, -170.603)\"\\n',\n",
       " 'AKIACHAK SCHOOL,AKIACHAK,AK,YUPIIT SCHOOL DISTRICT,$520579.00,Transformation,\"AKIACHAK 51100\\n',\n",
       " 'AKIACHAK, AK 99551\\n',\n",
       " '(60.8911, -161.376)\"\\n',\n",
       " 'GAMBELL SCHOOL,GAMBELL,AK,BERING STRAIT SCHOOL DISTRICT,$449592.00,Transformation,\"169 MAIN ST\\n',\n",
       " 'GAMBELL, AK 99742\\n',\n",
       " '(63.7413, -171.689)\"\\n',\n",
       " 'BURCHELL HIGH SCHOOL,WASILLA,AK,MATANUSKA-SUSITNA BOROUGH SCHOOL DISTRICT,$641184.00,Transformation,\"1775 WEST PARKS HWY\\n',\n",
       " 'WASILLA, AK 99654\\n',\n",
       " '(61.5794, -149.495)\"\\n',\n",
       " 'AKIAK SCHOOL,AKIAK,AK,YUPIIT SCHOOL DISTRICT,$399686.00,Transformation,\"AKIAK 5227\\n',\n",
       " 'AKIAK, AK 99552\\n',\n",
       " '(60.8879, -161.2)\"\\n',\n",
       " 'MIDVALLEY HIGH,WASILLA,AK,MATANUSKA-SUSITNA BOROUGH SCHOOL DISTRICT,$697703.00,Restart,\"7362 WEST PARKS HWY 725\\n',\n",
       " 'WASILLA, AK 99654\\n',\n",
       " '(61.5023, -149.796)\"\\n',\n",
       " 'TULUKSAK SCHOOL,TULUKSAK,AK,YUPIIT SCHOOL DISTRICT,$427658.00,Transformation,\"TULUKSAK 115\\n',\n",
       " 'TULUKSAK, AK 99679\\n',\n",
       " '(61.1001, -160.961)\"\\n']"
      ]
     },
     "execution_count": 14,
     "metadata": {},
     "output_type": "execute_result"
    }
   ],
   "source": [
    "data[1:22]"
   ]
  },
  {
   "cell_type": "markdown",
   "metadata": {},
   "source": [
    "Above code read the first 21 lines of data.  Now going to have the first 21 lines read - but only every 3 lines - which if data is organized as expected it should be listing the schools."
   ]
  },
  {
   "cell_type": "code",
   "execution_count": 15,
   "metadata": {},
   "outputs": [
    {
     "data": {
      "text/plain": [
       "['HOGARTH KINGEEKUK MEMORIAL SCHOOL,SAVOONGA,AK,BERING STRAIT SCHOOL DISTRICT,$471014.00,Transformation,\"200 MAIN ST\\n',\n",
       " 'AKIACHAK SCHOOL,AKIACHAK,AK,YUPIIT SCHOOL DISTRICT,$520579.00,Transformation,\"AKIACHAK 51100\\n',\n",
       " 'GAMBELL SCHOOL,GAMBELL,AK,BERING STRAIT SCHOOL DISTRICT,$449592.00,Transformation,\"169 MAIN ST\\n',\n",
       " 'BURCHELL HIGH SCHOOL,WASILLA,AK,MATANUSKA-SUSITNA BOROUGH SCHOOL DISTRICT,$641184.00,Transformation,\"1775 WEST PARKS HWY\\n',\n",
       " 'AKIAK SCHOOL,AKIAK,AK,YUPIIT SCHOOL DISTRICT,$399686.00,Transformation,\"AKIAK 5227\\n',\n",
       " 'MIDVALLEY HIGH,WASILLA,AK,MATANUSKA-SUSITNA BOROUGH SCHOOL DISTRICT,$697703.00,Restart,\"7362 WEST PARKS HWY 725\\n',\n",
       " 'TULUKSAK SCHOOL,TULUKSAK,AK,YUPIIT SCHOOL DISTRICT,$427658.00,Transformation,\"TULUKSAK 115\\n']"
      ]
     },
     "execution_count": 15,
     "metadata": {},
     "output_type": "execute_result"
    }
   ],
   "source": [
    "data[1:22:3]"
   ]
  },
  {
   "cell_type": "code",
   "execution_count": 18,
   "metadata": {},
   "outputs": [
    {
     "data": {
      "text/plain": [
       "7"
      ]
     },
     "execution_count": 18,
     "metadata": {},
     "output_type": "execute_result"
    }
   ],
   "source": [
    "len(data[1:22:3])"
   ]
  },
  {
   "cell_type": "code",
   "execution_count": 19,
   "metadata": {},
   "outputs": [
    {
     "data": {
      "text/plain": [
       "['SAVOONGA, AK 99769\\n',\n",
       " 'AKIACHAK, AK 99551\\n',\n",
       " 'GAMBELL, AK 99742\\n',\n",
       " 'WASILLA, AK 99654\\n',\n",
       " 'AKIAK, AK 99552\\n',\n",
       " 'WASILLA, AK 99654\\n',\n",
       " 'TULUKSAK, AK 99679\\n']"
      ]
     },
     "execution_count": 19,
     "metadata": {},
     "output_type": "execute_result"
    }
   ],
   "source": [
    "data[2:22:3]"
   ]
  },
  {
   "cell_type": "code",
   "execution_count": 20,
   "metadata": {},
   "outputs": [
    {
     "data": {
      "text/plain": [
       "7"
      ]
     },
     "execution_count": 20,
     "metadata": {},
     "output_type": "execute_result"
    }
   ],
   "source": [
    "len(data[2:22:3])"
   ]
  },
  {
   "cell_type": "code",
   "execution_count": 21,
   "metadata": {},
   "outputs": [
    {
     "data": {
      "text/plain": [
       "['(63.6687, -170.603)\"\\n',\n",
       " '(60.8911, -161.376)\"\\n',\n",
       " '(63.7413, -171.689)\"\\n',\n",
       " '(61.5794, -149.495)\"\\n',\n",
       " '(60.8879, -161.2)\"\\n',\n",
       " '(61.5023, -149.796)\"\\n',\n",
       " '(61.1001, -160.961)\"\\n']"
      ]
     },
     "execution_count": 21,
     "metadata": {},
     "output_type": "execute_result"
    }
   ],
   "source": [
    "data[3:22:3]"
   ]
  },
  {
   "cell_type": "code",
   "execution_count": 22,
   "metadata": {},
   "outputs": [
    {
     "data": {
      "text/plain": [
       "7"
      ]
     },
     "execution_count": 22,
     "metadata": {},
     "output_type": "execute_result"
    }
   ],
   "source": [
    "len(data[3:22:3])"
   ]
  },
  {
   "cell_type": "code",
   "execution_count": 25,
   "metadata": {},
   "outputs": [
    {
     "name": "stdout",
     "output_type": "stream",
     "text": [
      "HOGARTH KINGEEKUK MEMORIAL SCHOOL,SAVOONGA,AK,BERING STRAIT SCHOOL DISTRICT,$471014.00,Transformation,\"200 MAIN ST\n",
      " SAVOONGA, AK 99769\n",
      " (63.6687, -170.603)\"\n",
      "\n",
      "=====\n",
      "\n",
      "AKIACHAK SCHOOL,AKIACHAK,AK,YUPIIT SCHOOL DISTRICT,$520579.00,Transformation,\"AKIACHAK 51100\n",
      " AKIACHAK, AK 99551\n",
      " (60.8911, -161.376)\"\n",
      "\n",
      "=====\n",
      "\n",
      "GAMBELL SCHOOL,GAMBELL,AK,BERING STRAIT SCHOOL DISTRICT,$449592.00,Transformation,\"169 MAIN ST\n",
      " GAMBELL, AK 99742\n",
      " (63.7413, -171.689)\"\n",
      "\n",
      "=====\n",
      "\n",
      "BURCHELL HIGH SCHOOL,WASILLA,AK,MATANUSKA-SUSITNA BOROUGH SCHOOL DISTRICT,$641184.00,Transformation,\"1775 WEST PARKS HWY\n",
      " WASILLA, AK 99654\n",
      " (61.5794, -149.495)\"\n",
      "\n",
      "=====\n",
      "\n",
      "AKIAK SCHOOL,AKIAK,AK,YUPIIT SCHOOL DISTRICT,$399686.00,Transformation,\"AKIAK 5227\n",
      " AKIAK, AK 99552\n",
      " (60.8879, -161.2)\"\n",
      "\n",
      "=====\n",
      "\n",
      "MIDVALLEY HIGH,WASILLA,AK,MATANUSKA-SUSITNA BOROUGH SCHOOL DISTRICT,$697703.00,Restart,\"7362 WEST PARKS HWY 725\n",
      " WASILLA, AK 99654\n",
      " (61.5023, -149.796)\"\n",
      "\n",
      "=====\n",
      "\n",
      "TULUKSAK SCHOOL,TULUKSAK,AK,YUPIIT SCHOOL DISTRICT,$427658.00,Transformation,\"TULUKSAK 115\n",
      " TULUKSAK, AK 99679\n",
      " (61.1001, -160.961)\"\n",
      "\n",
      "=====\n",
      "\n"
     ]
    }
   ],
   "source": [
    "for part_1, part_2, part_3 in zip(data[1:22:3], data[2:22:3], data[3:33:3]):\n",
    "    print(part_1, part_2, part_3)\n",
    "    print(\"=====\")\n",
    "    print()"
   ]
  },
  {
   "cell_type": "markdown",
   "metadata": {},
   "source": [
    "The records are just strings so they can be concatonated. Then replace the new line command \\n with a blank character so the records are all on one line.  The other way to remove the new line character instead of .replace(\"\\n\", \"\") would have been to do .strip() BUT that only works on the end of records.  So since we didn't strip this data prior to adding, it wouldn't work below."
   ]
  },
  {
   "cell_type": "code",
   "execution_count": 26,
   "metadata": {},
   "outputs": [
    {
     "name": "stdout",
     "output_type": "stream",
     "text": [
      "HOGARTH KINGEEKUK MEMORIAL SCHOOL,SAVOONGA,AK,BERING STRAIT SCHOOL DISTRICT,$471014.00,Transformation,\"200 MAIN STSAVOONGA, AK 99769(63.6687, -170.603)\"\n"
     ]
    }
   ],
   "source": [
    "for part_1, part_2, part_3 in zip(data[1:2:3], data[2:22:3], data[3:22:3]):\n",
    "    record = (part_1 + part_2 + part_3).replace(\"\\n\", \"\")\n",
    "    print(record)"
   ]
  },
  {
   "cell_type": "markdown",
   "metadata": {},
   "source": [
    "Creat list, slice data, zip data and then clean up data.  Deleting the 22 (last line of test data) and leaving it blank will use all data."
   ]
  },
  {
   "cell_type": "code",
   "execution_count": 32,
   "metadata": {},
   "outputs": [],
   "source": [
    "records = []\n",
    "\n",
    "for part_1, part_2, part_3 in zip(data[1::3], data[2::3], data[3::3]):\n",
    "    record = (part_1 + part_2 + part_3)\n",
    "    record = record.replace(\"\\n\", \"\")\n",
    "    records.append(record)\n",
    "    "
   ]
  },
  {
   "cell_type": "code",
   "execution_count": 33,
   "metadata": {},
   "outputs": [
    {
     "data": {
      "text/plain": [
       "831"
      ]
     },
     "execution_count": 33,
     "metadata": {},
     "output_type": "execute_result"
    }
   ],
   "source": [
    "len(records)"
   ]
  },
  {
   "cell_type": "markdown",
   "metadata": {},
   "source": [
    "# List Comprehension\n",
    " Line 34 is an example.  Following that works on our data - and essentially does the same thing as above, but with fewer keystrokes"
   ]
  },
  {
   "cell_type": "code",
   "execution_count": 34,
   "metadata": {},
   "outputs": [
    {
     "data": {
      "text/plain": [
       "[2,\n",
       " 4,\n",
       " 6,\n",
       " 8,\n",
       " 10,\n",
       " 12,\n",
       " 14,\n",
       " 16,\n",
       " 18,\n",
       " 20,\n",
       " 22,\n",
       " 24,\n",
       " 26,\n",
       " 28,\n",
       " 30,\n",
       " 32,\n",
       " 34,\n",
       " 36,\n",
       " 38,\n",
       " 40,\n",
       " 42,\n",
       " 44,\n",
       " 46,\n",
       " 48]"
      ]
     },
     "execution_count": 34,
     "metadata": {},
     "output_type": "execute_result"
    }
   ],
   "source": [
    "[i for i in range(1,50) if i % 2 == 0 ]"
   ]
  },
  {
   "cell_type": "code",
   "execution_count": 36,
   "metadata": {},
   "outputs": [],
   "source": [
    "records = [ (x+y+z).replace(\"\\n\", \"\") for x,y,z in zip(data[1::3], data[2::3], data[3::3]) ]"
   ]
  },
  {
   "cell_type": "code",
   "execution_count": 37,
   "metadata": {},
   "outputs": [
    {
     "data": {
      "text/plain": [
       "831"
      ]
     },
     "execution_count": 37,
     "metadata": {},
     "output_type": "execute_result"
    }
   ],
   "source": [
    "len(records)"
   ]
  },
  {
   "cell_type": "code",
   "execution_count": 38,
   "metadata": {},
   "outputs": [
    {
     "name": "stdout",
     "output_type": "stream",
     "text": [
      "HOGARTH KINGEEKUK MEMORIAL SCHOOL,SAVOONGA,AK,BERING STRAIT SCHOOL DISTRICT,$471014.00,Transformation,\"200 MAIN STSAVOONGA, AK 99769(63.6687, -170.603)\"\n",
      "AKIACHAK SCHOOL,AKIACHAK,AK,YUPIIT SCHOOL DISTRICT,$520579.00,Transformation,\"AKIACHAK 51100AKIACHAK, AK 99551(60.8911, -161.376)\"\n",
      "GAMBELL SCHOOL,GAMBELL,AK,BERING STRAIT SCHOOL DISTRICT,$449592.00,Transformation,\"169 MAIN STGAMBELL, AK 99742(63.7413, -171.689)\"\n",
      "BURCHELL HIGH SCHOOL,WASILLA,AK,MATANUSKA-SUSITNA BOROUGH SCHOOL DISTRICT,$641184.00,Transformation,\"1775 WEST PARKS HWYWASILLA, AK 99654(61.5794, -149.495)\"\n",
      "AKIAK SCHOOL,AKIAK,AK,YUPIIT SCHOOL DISTRICT,$399686.00,Transformation,\"AKIAK 5227AKIAK, AK 99552(60.8879, -161.2)\"\n",
      "MIDVALLEY HIGH,WASILLA,AK,MATANUSKA-SUSITNA BOROUGH SCHOOL DISTRICT,$697703.00,Restart,\"7362 WEST PARKS HWY 725WASILLA, AK 99654(61.5023, -149.796)\"\n",
      "TULUKSAK SCHOOL,TULUKSAK,AK,YUPIIT SCHOOL DISTRICT,$427658.00,Transformation,\"TULUKSAK 115TULUKSAK, AK 99679(61.1001, -160.961)\"\n",
      "CAPITOL HEIGHTS JR HIGH SCH,MONTGOMERY,AL,MONTGOMERY COUNTY,$110544.00,Transformation,\"116 FEDERAL DRMONTGOMERY, AL 36107(32.3821, -86.2724)\"\n",
      "LOWNDES CO MIDDLE SCH,FORT DEPOSIT,AL,LOWNDES COUNTY,$12973.00,Transformation,\"510 MONTGOMERY STFORT DEPOSIT, AL 36032(31.9948, -86.5905)\"\n",
      "CENTRAL MIDDLE SCH,ROCKFORD,AL,COOSA COUNTY,$199828.00,Transformation,\"ROUTE 2BOX 65ROCKFORD, AL 35136(32.8928, -86.1552)\"\n"
     ]
    }
   ],
   "source": [
    "for record in records[0:10]:\n",
    "    print(record)"
   ]
  },
  {
   "cell_type": "code",
   "execution_count": 39,
   "metadata": {},
   "outputs": [
    {
     "data": {
      "text/plain": [
       "'School Name,City,State,District Name,2010/11/Award Amount,Model Selected,Location\\n'"
      ]
     },
     "execution_count": 39,
     "metadata": {},
     "output_type": "execute_result"
    }
   ],
   "source": [
    "columns"
   ]
  },
  {
   "cell_type": "markdown",
   "metadata": {},
   "source": [
    "Below will strip out the line break at the end and have the line break at the comma"
   ]
  },
  {
   "cell_type": "code",
   "execution_count": 41,
   "metadata": {},
   "outputs": [
    {
     "data": {
      "text/plain": [
       "['School Name',\n",
       " 'City',\n",
       " 'State',\n",
       " 'District Name',\n",
       " '2010/11/Award Amount',\n",
       " 'Model Selected',\n",
       " 'Location']"
      ]
     },
     "execution_count": 41,
     "metadata": {},
     "output_type": "execute_result"
    }
   ],
   "source": [
    "columns.strip().split(\",\")"
   ]
  },
  {
   "cell_type": "markdown",
   "metadata": {},
   "source": [
    "A set is a unique sequence.  You can use set to test data.  Below, expected 7 as there are 7 \"columns\" of data in our file, but got 9."
   ]
  },
  {
   "cell_type": "code",
   "execution_count": 45,
   "metadata": {},
   "outputs": [
    {
     "data": {
      "text/plain": [
       "{9}"
      ]
     },
     "execution_count": 45,
     "metadata": {},
     "output_type": "execute_result"
    }
   ],
   "source": [
    "number_of_fields = set()\n",
    "\n",
    "for record in records[0:10]:\n",
    "    number_of_fields.add(\n",
    "        len( record.split(\",\") )\n",
    "    )\n",
    "number_of_fields\n",
    "   "
   ]
  },
  {
   "cell_type": "code",
   "execution_count": 46,
   "metadata": {},
   "outputs": [
    {
     "data": {
      "text/plain": [
       "{9, 10, 11}"
      ]
     },
     "execution_count": 46,
     "metadata": {},
     "output_type": "execute_result"
    }
   ],
   "source": [
    "number_of_fields = set()\n",
    "\n",
    "for record in records:\n",
    "    number_of_fields.add(\n",
    "        len( record.split(\",\") )\n",
    "    )\n",
    "number_of_fields"
   ]
  },
  {
   "cell_type": "markdown",
   "metadata": {},
   "source": [
    "So let's test a single line to see what's happening"
   ]
  },
  {
   "cell_type": "code",
   "execution_count": 47,
   "metadata": {},
   "outputs": [
    {
     "data": {
      "text/plain": [
       "'HOGARTH KINGEEKUK MEMORIAL SCHOOL,SAVOONGA,AK,BERING STRAIT SCHOOL DISTRICT,$471014.00,Transformation,\"200 MAIN STSAVOONGA, AK 99769(63.6687, -170.603)\"'"
      ]
     },
     "execution_count": 47,
     "metadata": {},
     "output_type": "execute_result"
    }
   ],
   "source": [
    "records[0]"
   ]
  },
  {
   "cell_type": "code",
   "execution_count": 48,
   "metadata": {},
   "outputs": [
    {
     "data": {
      "text/plain": [
       "['HOGARTH KINGEEKUK MEMORIAL SCHOOL',\n",
       " 'SAVOONGA',\n",
       " 'AK',\n",
       " 'BERING STRAIT SCHOOL DISTRICT',\n",
       " '$471014.00',\n",
       " 'Transformation',\n",
       " '\"200 MAIN STSAVOONGA',\n",
       " ' AK 99769(63.6687',\n",
       " ' -170.603)\"']"
      ]
     },
     "execution_count": 48,
     "metadata": {},
     "output_type": "execute_result"
    }
   ],
   "source": [
    "records[0].split(',')"
   ]
  },
  {
   "cell_type": "markdown",
   "metadata": {},
   "source": [
    "The Location field in the record is contained in quotes and inside of that, there are commas.  That means that this needs to be treated differently so that the data is sorted and behaves as expected when using it.  Our assignment isn't to load all data so we'll get back to this.  Right now, just want data specific to the Philadelphia School District.  So go back to data and see how to find just what we need."
   ]
  },
  {
   "cell_type": "code",
   "execution_count": 49,
   "metadata": {},
   "outputs": [
    {
     "name": "stdout",
     "output_type": "stream",
     "text": [
      "SAYRE WILLIAM L MS,PHILADELPHIA,PA,PHILADELPHIA CITY SD,$737032.00,Transformation,\"5800 WALNUT STPHILADELPHIA, PA 19139(39.9584, -75.2375)\"\n",
      "KING MARTIN LUTHER HS,PHILADELPHIA,PA,PHILADELPHIA CITY SD,$786964.00,Transformation,\"6100 STENTON AVEPHILADELPHIA, PA 19138(40.0577, -75.1622)\"\n",
      "DOUGLAS STEPHEN A SCH,PHILADELPHIA,PA,PHILADELPHIA CITY SD,$319320.00,Restart,\"2700 EAST HUNTINGDON STPHILADELPHIA, PA 19125(39.9767, -75.1168)\"\n",
      "LOCKE ALAIN SCH,PHILADELPHIA,PA,PHILADELPHIA CITY SD,$390938.00,Transformation,\"4550 HAVERFORD AVEPHILADELPHIA, PA 19139(39.9625, -75.2136)\"\n",
      "ALCORN JAMES SCH,PHILADELPHIA,PA,PHILADELPHIA CITY SD,$338726.00,Transformation,\"3200 DICKINSON STPHILADELPHIA, PA 19146(39.9354, -75.1973)\"\n",
      "GERMANTOWN HS,PHILADELPHIA,PA,PHILADELPHIA CITY SD,$798792.00,Transformation,\"40 EAST HIGH STPHILADELPHIA, PA 19144(40.0401, -75.1769)\"\n",
      "ROXBOROUGH HS,PHILADELPHIA,PA,PHILADELPHIA CITY SD,$641440.00,Transformation,\"6498 RIDGE AVEPHILADELPHIA, PA 19128(40.0381, -75.2228)\"\n",
      "UNIVERSITY CITY HS,PHILADELPHIA,PA,PHILADELPHIA CITY SD,$923999.00,Turnaround,\"3601 FILBEROUTE STPHILADELPHIA, PA 19104(39.957, -75.1941)\"\n",
      "SMEDLEY FRANKLIN SCH,PHILADELPHIA,PA,PHILADELPHIA CITY SD,$362773.00,Restart,\"1790 BRIDGE STPHILADELPHIA, PA 19124(40.0198, -75.0735)\"\n",
      "WEST PHILADELPHIA HS,PHILADELPHIA,PA,PHILADELPHIA CITY SD,$671142.00,Transformation,\"4700 WALNUT STPHILADELPHIA, PA 19139(39.9557, -75.2157)\"\n",
      "HARRITY WILLIAM F SCH,PHILADELPHIA,PA,PHILADELPHIA CITY SD,$980283.00,Restart,\"5601 CHRISTIAN STPHILADELPHIA, PA 19143(39.9485, -75.2355)\"\n",
      "FRANKFORD HS,PHILADELPHIA,PA,PHILADELPHIA CITY SD,$792001.00,Transformation,\"5000 OXFORD AVEPHILADELPHIA, PA 19124(40.0225, -75.0845)\"\n",
      "VAUX ROBERTS HS,PHILADELPHIA,PA,PHILADELPHIA CITY SD,$466665.00,Turnaround,\"2300 WEST MASTER STPHILADELPHIA, PA 19121(39.9763, -75.1735)\"\n",
      "CLEMENTE ROBERTO MS,PHILADELPHIA,PA,PHILADELPHIA CITY SD,$333327.00,Turnaround,\"122 WEST ERIE AVEPHILADELPHIA, PA 19140(40.0074, -75.1283)\"\n",
      "FELS SAMUEL HS,PHILADELPHIA,PA,PHILADELPHIA CITY SD,$974132.00,Transformation,\"901 DEVEREAUX AVEPHILADELPHIA, PA 19111(40.0417, -75.0883)\"\n",
      "ALLEN DR ETHEL SCH,PHILADELPHIA,PA,PHILADELPHIA CITY SD,$247020.00,Turnaround,\"3200 WEST LEHIGH AVEPHILADELPHIA, PA 19132(39.9977, -75.1836)\"\n",
      "FELTONVILLE INTERMEDIATE SCHOOL,PHILADELPHIA,PA,PHILADELPHIA CITY SD,$244855.00,Transformation,\"4901 RISING SUN AVEPHILADELPHIA, PA 19120(40.0246, -75.1231)\"\n",
      "SOUTH PHILADELPHIA HS,PHILADELPHIA,PA,PHILADELPHIA CITY SD,$579958.00,Transformation,\"2101 SOUTH BRD STPHILADELPHIA, PA 19148(39.9244, -75.1697)\"\n",
      "OLNEY HS WEST,PHILADELPHIA,PA,PHILADELPHIA CITY SD,$272245.00,Transformation,\"100 WEST DUNCANNON AVEPHILADELPHIA, PA 19120(40.0292, -75.1228)\"\n",
      "EDISON HS/FAREIRA SKILLS,PHILADELPHIA,PA,PHILADELPHIA CITY SD,$1.00,Transformation,\"151 WEST LUZERNE STPHILADELPHIA, PA 19140(40.0111, -75.1286)\"\n",
      "STETSON JOHN B MS,PHILADELPHIA,PA,PHILADELPHIA CITY SD,$888708.00,Restart,\"3200 B STPHILADELPHIA, PA 19134(39.9981, -75.1254)\"\n",
      "DAROFF SAMUEL SCH,PHILADELPHIA,PA,PHILADELPHIA CITY SD,$658247.00,Restart,\"5630 VINE STPHILADELPHIA, PA 19139(39.9657, -75.2326)\"\n",
      "BLUFORD GUION EL SCH,PHILADELPHIA,PA,PHILADELPHIA CITY SD,$907129.00,Restart,\"5801 MEDIA STPHILADELPHIA, PA 19131(39.9748, -75.2366)\"\n",
      "CLYMER GEORGE SCH,PHILADELPHIA,PA,PHILADELPHIA CITY SD,$392068.00,Transformation,\"1201 WEST RUSH STPHILADELPHIA, PA 19133(39.9956, -75.1504)\"\n",
      "MANN WILLIAM B SCH,PHILADELPHIA,PA,PHILADELPHIA CITY SD,$794021.00,Restart,\"5376 WEST BERKS STPHILADELPHIA, PA 19131(39.986, -75.2314)\"\n",
      "GRATZ SIMON HS,PHILADELPHIA,PA,PHILADELPHIA CITY SD,$508486.00,Transformation,\"1798 WEST HUNTING PARK AVEPHILADELPHIA, PA 19140(40.0146, -75.1566)\"\n",
      "LINCOLN HS,PHILADELPHIA,PA,PHILADELPHIA CITY SD,$14.00,Transformation,\"3201 RYAN AVEPHILADELPHIA, PA 19136(40.0403, -75.0433)\"\n"
     ]
    }
   ],
   "source": [
    "for record in records:\n",
    "    if \"PHILADELPHIA CITY SD\" in record:\n",
    "        print(record)"
   ]
  },
  {
   "cell_type": "code",
   "execution_count": 50,
   "metadata": {},
   "outputs": [
    {
     "data": {
      "text/plain": [
       "{9}"
      ]
     },
     "execution_count": 50,
     "metadata": {},
     "output_type": "execute_result"
    }
   ],
   "source": [
    "number_of_fields = set()\n",
    "for record in records:\n",
    "    if \"PHILADELPHIA CITY SD\" in record:\n",
    "        number_of_fields.add(len(record.split(\",\")))\n",
    "number_of_fields"
   ]
  },
  {
   "cell_type": "markdown",
   "metadata": {},
   "source": [
    "OK, we are good.  All records have the same number of fields.  Now we need to get what we want from the data"
   ]
  },
  {
   "cell_type": "code",
   "execution_count": 51,
   "metadata": {},
   "outputs": [
    {
     "name": "stdout",
     "output_type": "stream",
     "text": [
      "['SAYRE WILLIAM L MS', 'PHILADELPHIA', 'PA', 'PHILADELPHIA CITY SD', '$737032.00', 'Transformation', '\"5800 WALNUT STPHILADELPHIA', ' PA 19139(39.9584', ' -75.2375)\"']\n",
      "['KING MARTIN LUTHER HS', 'PHILADELPHIA', 'PA', 'PHILADELPHIA CITY SD', '$786964.00', 'Transformation', '\"6100 STENTON AVEPHILADELPHIA', ' PA 19138(40.0577', ' -75.1622)\"']\n",
      "['DOUGLAS STEPHEN A SCH', 'PHILADELPHIA', 'PA', 'PHILADELPHIA CITY SD', '$319320.00', 'Restart', '\"2700 EAST HUNTINGDON STPHILADELPHIA', ' PA 19125(39.9767', ' -75.1168)\"']\n",
      "['LOCKE ALAIN SCH', 'PHILADELPHIA', 'PA', 'PHILADELPHIA CITY SD', '$390938.00', 'Transformation', '\"4550 HAVERFORD AVEPHILADELPHIA', ' PA 19139(39.9625', ' -75.2136)\"']\n",
      "['ALCORN JAMES SCH', 'PHILADELPHIA', 'PA', 'PHILADELPHIA CITY SD', '$338726.00', 'Transformation', '\"3200 DICKINSON STPHILADELPHIA', ' PA 19146(39.9354', ' -75.1973)\"']\n",
      "['GERMANTOWN HS', 'PHILADELPHIA', 'PA', 'PHILADELPHIA CITY SD', '$798792.00', 'Transformation', '\"40 EAST HIGH STPHILADELPHIA', ' PA 19144(40.0401', ' -75.1769)\"']\n",
      "['ROXBOROUGH HS', 'PHILADELPHIA', 'PA', 'PHILADELPHIA CITY SD', '$641440.00', 'Transformation', '\"6498 RIDGE AVEPHILADELPHIA', ' PA 19128(40.0381', ' -75.2228)\"']\n",
      "['UNIVERSITY CITY HS', 'PHILADELPHIA', 'PA', 'PHILADELPHIA CITY SD', '$923999.00', 'Turnaround', '\"3601 FILBEROUTE STPHILADELPHIA', ' PA 19104(39.957', ' -75.1941)\"']\n",
      "['SMEDLEY FRANKLIN SCH', 'PHILADELPHIA', 'PA', 'PHILADELPHIA CITY SD', '$362773.00', 'Restart', '\"1790 BRIDGE STPHILADELPHIA', ' PA 19124(40.0198', ' -75.0735)\"']\n",
      "['WEST PHILADELPHIA HS', 'PHILADELPHIA', 'PA', 'PHILADELPHIA CITY SD', '$671142.00', 'Transformation', '\"4700 WALNUT STPHILADELPHIA', ' PA 19139(39.9557', ' -75.2157)\"']\n",
      "['HARRITY WILLIAM F SCH', 'PHILADELPHIA', 'PA', 'PHILADELPHIA CITY SD', '$980283.00', 'Restart', '\"5601 CHRISTIAN STPHILADELPHIA', ' PA 19143(39.9485', ' -75.2355)\"']\n",
      "['FRANKFORD HS', 'PHILADELPHIA', 'PA', 'PHILADELPHIA CITY SD', '$792001.00', 'Transformation', '\"5000 OXFORD AVEPHILADELPHIA', ' PA 19124(40.0225', ' -75.0845)\"']\n",
      "['VAUX ROBERTS HS', 'PHILADELPHIA', 'PA', 'PHILADELPHIA CITY SD', '$466665.00', 'Turnaround', '\"2300 WEST MASTER STPHILADELPHIA', ' PA 19121(39.9763', ' -75.1735)\"']\n",
      "['CLEMENTE ROBERTO MS', 'PHILADELPHIA', 'PA', 'PHILADELPHIA CITY SD', '$333327.00', 'Turnaround', '\"122 WEST ERIE AVEPHILADELPHIA', ' PA 19140(40.0074', ' -75.1283)\"']\n",
      "['FELS SAMUEL HS', 'PHILADELPHIA', 'PA', 'PHILADELPHIA CITY SD', '$974132.00', 'Transformation', '\"901 DEVEREAUX AVEPHILADELPHIA', ' PA 19111(40.0417', ' -75.0883)\"']\n",
      "['ALLEN DR ETHEL SCH', 'PHILADELPHIA', 'PA', 'PHILADELPHIA CITY SD', '$247020.00', 'Turnaround', '\"3200 WEST LEHIGH AVEPHILADELPHIA', ' PA 19132(39.9977', ' -75.1836)\"']\n",
      "['FELTONVILLE INTERMEDIATE SCHOOL', 'PHILADELPHIA', 'PA', 'PHILADELPHIA CITY SD', '$244855.00', 'Transformation', '\"4901 RISING SUN AVEPHILADELPHIA', ' PA 19120(40.0246', ' -75.1231)\"']\n",
      "['SOUTH PHILADELPHIA HS', 'PHILADELPHIA', 'PA', 'PHILADELPHIA CITY SD', '$579958.00', 'Transformation', '\"2101 SOUTH BRD STPHILADELPHIA', ' PA 19148(39.9244', ' -75.1697)\"']\n",
      "['OLNEY HS WEST', 'PHILADELPHIA', 'PA', 'PHILADELPHIA CITY SD', '$272245.00', 'Transformation', '\"100 WEST DUNCANNON AVEPHILADELPHIA', ' PA 19120(40.0292', ' -75.1228)\"']\n",
      "['EDISON HS/FAREIRA SKILLS', 'PHILADELPHIA', 'PA', 'PHILADELPHIA CITY SD', '$1.00', 'Transformation', '\"151 WEST LUZERNE STPHILADELPHIA', ' PA 19140(40.0111', ' -75.1286)\"']\n",
      "['STETSON JOHN B MS', 'PHILADELPHIA', 'PA', 'PHILADELPHIA CITY SD', '$888708.00', 'Restart', '\"3200 B STPHILADELPHIA', ' PA 19134(39.9981', ' -75.1254)\"']\n",
      "['DAROFF SAMUEL SCH', 'PHILADELPHIA', 'PA', 'PHILADELPHIA CITY SD', '$658247.00', 'Restart', '\"5630 VINE STPHILADELPHIA', ' PA 19139(39.9657', ' -75.2326)\"']\n",
      "['BLUFORD GUION EL SCH', 'PHILADELPHIA', 'PA', 'PHILADELPHIA CITY SD', '$907129.00', 'Restart', '\"5801 MEDIA STPHILADELPHIA', ' PA 19131(39.9748', ' -75.2366)\"']\n",
      "['CLYMER GEORGE SCH', 'PHILADELPHIA', 'PA', 'PHILADELPHIA CITY SD', '$392068.00', 'Transformation', '\"1201 WEST RUSH STPHILADELPHIA', ' PA 19133(39.9956', ' -75.1504)\"']\n",
      "['MANN WILLIAM B SCH', 'PHILADELPHIA', 'PA', 'PHILADELPHIA CITY SD', '$794021.00', 'Restart', '\"5376 WEST BERKS STPHILADELPHIA', ' PA 19131(39.986', ' -75.2314)\"']\n",
      "['GRATZ SIMON HS', 'PHILADELPHIA', 'PA', 'PHILADELPHIA CITY SD', '$508486.00', 'Transformation', '\"1798 WEST HUNTING PARK AVEPHILADELPHIA', ' PA 19140(40.0146', ' -75.1566)\"']\n",
      "['LINCOLN HS', 'PHILADELPHIA', 'PA', 'PHILADELPHIA CITY SD', '$14.00', 'Transformation', '\"3201 RYAN AVEPHILADELPHIA', ' PA 19136(40.0403', ' -75.0433)\"']\n"
     ]
    }
   ],
   "source": [
    "for record in records:\n",
    "    if \"PHILADELPHIA CITY SD\" in record:\n",
    "        fields = record.split(\",\")\n",
    "        print( fields)"
   ]
  },
  {
   "cell_type": "code",
   "execution_count": 52,
   "metadata": {},
   "outputs": [
    {
     "data": {
      "text/plain": [
       "'School Name,City,State,District Name,2010/11/Award Amount,Model Selected,Location\\n'"
      ]
     },
     "execution_count": 52,
     "metadata": {},
     "output_type": "execute_result"
    }
   ],
   "source": [
    "columns"
   ]
  },
  {
   "cell_type": "markdown",
   "metadata": {},
   "source": [
    "Now we'll use a dictionary function to get what we need'"
   ]
  },
  {
   "cell_type": "code",
   "execution_count": 53,
   "metadata": {},
   "outputs": [],
   "source": [
    "dataset = {\n",
    "    \"SCHOOL_NAME\":  [],\n",
    "    \"AMOUNT\":       [],\n",
    "    \"MODEL\":        []\n",
    "}"
   ]
  },
  {
   "cell_type": "code",
   "execution_count": 54,
   "metadata": {},
   "outputs": [
    {
     "data": {
      "text/plain": [
       "list"
      ]
     },
     "execution_count": 54,
     "metadata": {},
     "output_type": "execute_result"
    }
   ],
   "source": [
    "type(dataset[\"MODEL\"])"
   ]
  },
  {
   "cell_type": "code",
   "execution_count": 55,
   "metadata": {},
   "outputs": [
    {
     "name": "stdout",
     "output_type": "stream",
     "text": [
      "SAYRE WILLIAM L MS $737032.00 Transformation\n",
      "KING MARTIN LUTHER HS $786964.00 Transformation\n",
      "DOUGLAS STEPHEN A SCH $319320.00 Restart\n",
      "LOCKE ALAIN SCH $390938.00 Transformation\n",
      "ALCORN JAMES SCH $338726.00 Transformation\n",
      "GERMANTOWN HS $798792.00 Transformation\n",
      "ROXBOROUGH HS $641440.00 Transformation\n",
      "UNIVERSITY CITY HS $923999.00 Turnaround\n",
      "SMEDLEY FRANKLIN SCH $362773.00 Restart\n",
      "WEST PHILADELPHIA HS $671142.00 Transformation\n",
      "HARRITY WILLIAM F SCH $980283.00 Restart\n",
      "FRANKFORD HS $792001.00 Transformation\n",
      "VAUX ROBERTS HS $466665.00 Turnaround\n",
      "CLEMENTE ROBERTO MS $333327.00 Turnaround\n",
      "FELS SAMUEL HS $974132.00 Transformation\n",
      "ALLEN DR ETHEL SCH $247020.00 Turnaround\n",
      "FELTONVILLE INTERMEDIATE SCHOOL $244855.00 Transformation\n",
      "SOUTH PHILADELPHIA HS $579958.00 Transformation\n",
      "OLNEY HS WEST $272245.00 Transformation\n",
      "EDISON HS/FAREIRA SKILLS $1.00 Transformation\n",
      "STETSON JOHN B MS $888708.00 Restart\n",
      "DAROFF SAMUEL SCH $658247.00 Restart\n",
      "BLUFORD GUION EL SCH $907129.00 Restart\n",
      "CLYMER GEORGE SCH $392068.00 Transformation\n",
      "MANN WILLIAM B SCH $794021.00 Restart\n",
      "GRATZ SIMON HS $508486.00 Transformation\n",
      "LINCOLN HS $14.00 Transformation\n"
     ]
    }
   ],
   "source": [
    "dataset = {\n",
    "     \"SCHOOL_NAME\":  [],\n",
    "    \"AMOUNT\":       [],\n",
    "    \"MODEL\":        []\n",
    "}\n",
    "\n",
    "for record in records:\n",
    "    if \"PHILADELPHIA CITY SD\" in record:\n",
    "        fields = record.split(\",\")\n",
    "        \n",
    "        school_name = fields[0]\n",
    "        amount      = fields[4]\n",
    "        model       = fields[5]\n",
    "        \n",
    "        print(school_name, amount, model)"
   ]
  },
  {
   "cell_type": "markdown",
   "metadata": {},
   "source": [
    "But the dollars are strings, not numbers so we need to conver them to numbers.  We need to slice it to remove the $ and then turn it in to a number.\n"
   ]
  },
  {
   "cell_type": "code",
   "execution_count": 65,
   "metadata": {},
   "outputs": [
    {
     "name": "stdout",
     "output_type": "stream",
     "text": [
      "SAYRE WILLIAM L MS 737032.0 Transformation\n",
      "KING MARTIN LUTHER HS 786964.0 Transformation\n",
      "DOUGLAS STEPHEN A SCH 319320.0 Restart\n",
      "LOCKE ALAIN SCH 390938.0 Transformation\n",
      "ALCORN JAMES SCH 338726.0 Transformation\n",
      "GERMANTOWN HS 798792.0 Transformation\n",
      "ROXBOROUGH HS 641440.0 Transformation\n",
      "UNIVERSITY CITY HS 923999.0 Turnaround\n",
      "SMEDLEY FRANKLIN SCH 362773.0 Restart\n",
      "WEST PHILADELPHIA HS 671142.0 Transformation\n",
      "HARRITY WILLIAM F SCH 980283.0 Restart\n",
      "FRANKFORD HS 792001.0 Transformation\n",
      "VAUX ROBERTS HS 466665.0 Turnaround\n",
      "CLEMENTE ROBERTO MS 333327.0 Turnaround\n",
      "FELS SAMUEL HS 974132.0 Transformation\n",
      "ALLEN DR ETHEL SCH 247020.0 Turnaround\n",
      "FELTONVILLE INTERMEDIATE SCHOOL 244855.0 Transformation\n",
      "SOUTH PHILADELPHIA HS 579958.0 Transformation\n",
      "OLNEY HS WEST 272245.0 Transformation\n",
      "EDISON HS/FAREIRA SKILLS 1.0 Transformation\n",
      "STETSON JOHN B MS 888708.0 Restart\n",
      "DAROFF SAMUEL SCH 658247.0 Restart\n",
      "BLUFORD GUION EL SCH 907129.0 Restart\n",
      "CLYMER GEORGE SCH 392068.0 Transformation\n",
      "MANN WILLIAM B SCH 794021.0 Restart\n",
      "GRATZ SIMON HS 508486.0 Transformation\n",
      "LINCOLN HS 14.0 Transformation\n"
     ]
    }
   ],
   "source": [
    "dataset = {\n",
    "      \"SCHOOL_NAME\":  [],\n",
    "      \"AMOUNT\"     :  [],\n",
    "      \"MODEL\"      :  []\n",
    "}\n",
    "\n",
    "for record in records:\n",
    "    if \"PHILADELPHIA CITY SD\" in record:\n",
    "        fields = record.split(\",\")\n",
    "        \n",
    "        school_name = fields[0]\n",
    "        amount      = float(fields[4][1:])\n",
    "        model       = fields[5]\n",
    "        \n",
    "        print(school_name, amount, model)"
   ]
  },
  {
   "cell_type": "code",
   "execution_count": 78,
   "metadata": {},
   "outputs": [
    {
     "name": "stdout",
     "output_type": "stream",
     "text": [
      "\f",
      "\n"
     ]
    }
   ],
   "source": [
    "clear(dataset)"
   ]
  },
  {
   "cell_type": "code",
   "execution_count": 152,
   "metadata": {},
   "outputs": [
    {
     "data": {
      "text/plain": [
       "{'AMOUNT': [737032.0,\n",
       "  786964.0,\n",
       "  319320.0,\n",
       "  390938.0,\n",
       "  338726.0,\n",
       "  798792.0,\n",
       "  641440.0,\n",
       "  923999.0,\n",
       "  362773.0,\n",
       "  671142.0,\n",
       "  980283.0,\n",
       "  792001.0,\n",
       "  466665.0,\n",
       "  333327.0,\n",
       "  974132.0,\n",
       "  247020.0,\n",
       "  244855.0,\n",
       "  579958.0,\n",
       "  272245.0,\n",
       "  1.0,\n",
       "  888708.0,\n",
       "  658247.0,\n",
       "  907129.0,\n",
       "  392068.0,\n",
       "  794021.0,\n",
       "  508486.0,\n",
       "  14.0],\n",
       " 'MODEL': ['Transformation',\n",
       "  'Transformation',\n",
       "  'Restart',\n",
       "  'Transformation',\n",
       "  'Transformation',\n",
       "  'Transformation',\n",
       "  'Transformation',\n",
       "  'Turnaround',\n",
       "  'Restart',\n",
       "  'Transformation',\n",
       "  'Restart',\n",
       "  'Transformation',\n",
       "  'Turnaround',\n",
       "  'Turnaround',\n",
       "  'Transformation',\n",
       "  'Turnaround',\n",
       "  'Transformation',\n",
       "  'Transformation',\n",
       "  'Transformation',\n",
       "  'Transformation',\n",
       "  'Restart',\n",
       "  'Restart',\n",
       "  'Restart',\n",
       "  'Transformation',\n",
       "  'Restart',\n",
       "  'Transformation',\n",
       "  'Transformation'],\n",
       " 'SCHOOL_NAME': ['SAYRE WILLIAM L MS',\n",
       "  'KING MARTIN LUTHER HS',\n",
       "  'DOUGLAS STEPHEN A SCH',\n",
       "  'LOCKE ALAIN SCH',\n",
       "  'ALCORN JAMES SCH',\n",
       "  'GERMANTOWN HS',\n",
       "  'ROXBOROUGH HS',\n",
       "  'UNIVERSITY CITY HS',\n",
       "  'SMEDLEY FRANKLIN SCH',\n",
       "  'WEST PHILADELPHIA HS',\n",
       "  'HARRITY WILLIAM F SCH',\n",
       "  'FRANKFORD HS',\n",
       "  'VAUX ROBERTS HS',\n",
       "  'CLEMENTE ROBERTO MS',\n",
       "  'FELS SAMUEL HS',\n",
       "  'ALLEN DR ETHEL SCH',\n",
       "  'FELTONVILLE INTERMEDIATE SCHOOL',\n",
       "  'SOUTH PHILADELPHIA HS',\n",
       "  'OLNEY HS WEST',\n",
       "  'EDISON HS/FAREIRA SKILLS',\n",
       "  'STETSON JOHN B MS',\n",
       "  'DAROFF SAMUEL SCH',\n",
       "  'BLUFORD GUION EL SCH',\n",
       "  'CLYMER GEORGE SCH',\n",
       "  'MANN WILLIAM B SCH',\n",
       "  'GRATZ SIMON HS',\n",
       "  'LINCOLN HS']}"
      ]
     },
     "execution_count": 152,
     "metadata": {},
     "output_type": "execute_result"
    }
   ],
   "source": [
    "dataset = {\n",
    "      \"SCHOOL_NAME\":  [],\n",
    "      \"AMOUNT\"     :  [],\n",
    "      \"MODEL\"      :  []\n",
    "}\n",
    "\n",
    "for record in records:\n",
    "    if \"PHILADELPHIA CITY SD\" in record:\n",
    "        fields = record.split(\",\")\n",
    "        \n",
    "        school_name = fields[0]\n",
    "        amount      = float(fields[4][1:])\n",
    "        model       = fields[5]\n",
    "        \n",
    "        dataset[\"SCHOOL_NAME\"].append(school_name)\n",
    "        dataset[\"AMOUNT\"].append(amount)\n",
    "        dataset[\"MODEL\"].append(model)\n",
    "\n",
    "dataset        \n",
    "# print(dataset)"
   ]
  },
  {
   "cell_type": "code",
   "execution_count": 153,
   "metadata": {},
   "outputs": [
    {
     "data": {
      "text/plain": [
       "1.0"
      ]
     },
     "execution_count": 153,
     "metadata": {},
     "output_type": "execute_result"
    }
   ],
   "source": [
    "min(dataset[\"AMOUNT\"])"
   ]
  },
  {
   "cell_type": "code",
   "execution_count": 154,
   "metadata": {},
   "outputs": [
    {
     "data": {
      "text/plain": [
       "980283.0"
      ]
     },
     "execution_count": 154,
     "metadata": {},
     "output_type": "execute_result"
    }
   ],
   "source": [
    "max(dataset[\"AMOUNT\"])\n"
   ]
  },
  {
   "cell_type": "code",
   "execution_count": 155,
   "metadata": {},
   "outputs": [
    {
     "data": {
      "text/plain": [
       "15010286.0"
      ]
     },
     "execution_count": 155,
     "metadata": {},
     "output_type": "execute_result"
    }
   ],
   "source": [
    "sum(dataset[\"AMOUNT\"])"
   ]
  },
  {
   "cell_type": "code",
   "execution_count": 178,
   "metadata": {},
   "outputs": [
    {
     "name": "stdout",
     "output_type": "stream",
     "text": [
      "27\n"
     ]
    },
    {
     "data": {
      "text/plain": [
       "int"
      ]
     },
     "execution_count": 178,
     "metadata": {},
     "output_type": "execute_result"
    }
   ],
   "source": [
    "philly_schools = 0                               #this is the number of schools but not necessarily unique schools\n",
    "\n",
    "for record in records:\n",
    "    if \"PHILADELPHIA CITY SD\" in record:\n",
    "        philly_schools = philly_schools + 1\n",
    "          \n",
    "        \n",
    "print(philly_schools)\n",
    "type(philly_schools)"
   ]
  },
  {
   "cell_type": "code",
   "execution_count": 157,
   "metadata": {},
   "outputs": [
    {
     "name": "stdout",
     "output_type": "stream",
     "text": [
      "555936.5185185185\n"
     ]
    }
   ],
   "source": [
    "x = sum(dataset[\"AMOUNT\"])/philly_schools        #this is the mean = sum of grants divided by number of grants\n",
    "print (x)"
   ]
  },
  {
   "cell_type": "code",
   "execution_count": 194,
   "metadata": {},
   "outputs": [
    {
     "name": "stdout",
     "output_type": "stream",
     "text": [
      "282765.19336621836\n"
     ]
    }
   ],
   "source": [
    "x = sum(dataset[\"AMOUNT\"])/philly_schools        #this formula is for population standard deviation\n",
    "\n",
    "y = 0\n",
    "for record in records:\n",
    "    if \"PHILADELPHIA CITY SD\" in record:\n",
    "        fields = record.split(\",\")\n",
    "        \n",
    "        amount      = float(fields[4][1:]) \n",
    "        \n",
    "        y = y + ((amount - x)**2)\n",
    "        \n",
    "z = ((y/philly_schools)**(1/2))\n",
    "\n",
    "print(z)"
   ]
  },
  {
   "cell_type": "code",
   "execution_count": 195,
   "metadata": {},
   "outputs": [
    {
     "name": "stdout",
     "output_type": "stream",
     "text": [
      "288151.68105362233\n"
     ]
    }
   ],
   "source": [
    "x = sum(dataset[\"AMOUNT\"])/philly_schools        #this formula is for sample standard deviation\n",
    "\n",
    "b = 0\n",
    "for record in records:\n",
    "    if \"PHILADELPHIA CITY SD\" in record:\n",
    "        fields = record.split(\",\")\n",
    "\n",
    "        amount      = float(fields[4][1:]) \n",
    "        \n",
    "        b = b + ((amount - x)**2)\n",
    "\n",
    "q = ((b/(philly_schools-1))**(1/2))\n",
    "     \n",
    "     \n",
    "print(q)\n"
   ]
  },
  {
   "cell_type": "code",
   "execution_count": null,
   "metadata": {},
   "outputs": [],
   "source": []
  }
 ],
 "metadata": {
  "kernelspec": {
   "display_name": "Python 3",
   "language": "python",
   "name": "python3"
  },
  "language_info": {
   "codemirror_mode": {
    "name": "ipython",
    "version": 3
   },
   "file_extension": ".py",
   "mimetype": "text/x-python",
   "name": "python",
   "nbconvert_exporter": "python",
   "pygments_lexer": "ipython3",
   "version": "3.6.4"
  }
 },
 "nbformat": 4,
 "nbformat_minor": 2
}
