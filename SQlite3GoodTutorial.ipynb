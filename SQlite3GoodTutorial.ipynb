{
 "cells": [
  {
   "cell_type": "markdown",
   "metadata": {},
   "source": [
    "# SQlite3 Tutorial\n",
    "\n",
    "Needed to download a DB Browser for SQLite to view the database.  Found this by googling it and going to the github result.  Then downloaded the one for  my operating system.  \n"
   ]
  },
  {
   "cell_type": "markdown",
   "metadata": {},
   "source": [
    "# Creating a database with SQlite3\n",
    "\n",
    "Inserting records.  \n"
   ]
  },
  {
   "cell_type": "code",
   "execution_count": 21,
   "metadata": {},
   "outputs": [],
   "source": [
    "import sqlite3\n",
    "\n",
    "conn = sqlite3.connect('tutorial.db')\n",
    "c = conn.cursor()\n",
    "\n",
    "def create_table():\n",
    "    c.execute('CREATE TABLE IF NOT EXISTS stuffToPlot(unix REAL, datestamp TEXT, keyword TEXT, value REAL)')\n",
    "    \n",
    "def data_entry():\n",
    "    c.execute(\"INSERT INTO stuffToPlot VALUES(1234743323, '2016-02-01', 'Python', 5)\")\n",
    "    conn.commit()\n",
    "    c.close()\n",
    "    conn.close()\n",
    "    \n",
    "#create_table()    #call to create the table; no need to re-run but if you do it won't error because of the IF NOT EXISTS command\n",
    "#data_entry()      #call to input a row of data\n",
    "data_entry()  #call to input another row of data (changed what was originally above in the function but here the rows are manually being input one at a time)"
   ]
  },
  {
   "cell_type": "markdown",
   "metadata": {},
   "source": [
    "# Inserting variables to a database table.\n",
    "\n"
   ]
  },
  {
   "cell_type": "code",
   "execution_count": 23,
   "metadata": {},
   "outputs": [],
   "source": [
    "import sqlite3\n",
    "import time\n",
    "import datetime\n",
    "import random\n",
    "\n",
    "conn = sqlite3.connect('tutorial.db')\n",
    "c = conn.cursor()\n",
    "\n",
    "def dynamic_data_entry():\n",
    "    unix = time.time()\n",
    "    date = str(datetime.datetime.fromtimestamp(unix).strftime('%Y-%m-%d %H:%M:%S'))  #4 digit year, 2 digit month and day, hours, minutes, seconds \n",
    "    keyword = 'Python'\n",
    "    value = random.randrange(0,10)\n",
    "    c.execute(\"INSERT INTO stuffToPlot (unix, datestamp, keyword, value) VALUES (?, ?, ?, ?)\",\n",
    "             (unix, date, keyword, value))\n",
    "    conn.commit()\n",
    "    \n",
    "for i in range(10):\n",
    "    dynamic_data_entry()\n",
    "    time.sleep(1)      #only doing this since we are populating the timestamp and we want them to be different; this will increment it by one second\n",
    "\n",
    "c.close()\n",
    "conn.close()    \n",
    "    "
   ]
  },
  {
   "cell_type": "markdown",
   "metadata": {},
   "source": [
    "# How to read from an SQlite database"
   ]
  },
  {
   "cell_type": "code",
   "execution_count": 24,
   "metadata": {},
   "outputs": [
    {
     "name": "stdout",
     "output_type": "stream",
     "text": [
      "[(1541836507.427284, '2018-11-10 02:55:07', 'Python', 7.0), (1541836616.642457, '2018-11-10 02:56:56', 'Python', 9.0), (1541836617.6677616, '2018-11-10 02:56:57', 'Python', 9.0), (1541836618.685028, '2018-11-10 02:56:58', 'Python', 5.0), (1541836619.6996024, '2018-11-10 02:56:59', 'Python', 9.0), (1541836620.7171772, '2018-11-10 02:57:00', 'Python', 3.0), (1541836621.734784, '2018-11-10 02:57:01', 'Python', 4.0), (1541836622.7515607, '2018-11-10 02:57:02', 'Python', 4.0), (1541836623.7682765, '2018-11-10 02:57:03', 'Python', 5.0), (1541836624.7837703, '2018-11-10 02:57:04', 'Python', 5.0), (1541836625.797121, '2018-11-10 02:57:05', 'Python', 4.0), (1541882384.1540525, '2018-11-10 15:39:44', 'Python', 1.0), (1541882385.1971858, '2018-11-10 15:39:45', 'Python', 6.0), (1541882386.213437, '2018-11-10 15:39:46', 'Python', 3.0), (1541882387.2339053, '2018-11-10 15:39:47', 'Python', 6.0), (1541882388.2498193, '2018-11-10 15:39:48', 'Python', 5.0), (1541882389.2647538, '2018-11-10 15:39:49', 'Python', 7.0), (1541882390.2847402, '2018-11-10 15:39:50', 'Python', 7.0), (1541882391.3106577, '2018-11-10 15:39:51', 'Python', 3.0), (1541882392.332057, '2018-11-10 15:39:52', 'Python', 3.0), (1541882393.3538144, '2018-11-10 15:39:53', 'Python', 8.0), (1541882394.4839618, '2018-11-10 15:39:54', 'Python', 5.0), (1541882395.5037425, '2018-11-10 15:39:55', 'Python', 2.0), (1541882396.521847, '2018-11-10 15:39:56', 'Python', 0.0), (1541882397.542683, '2018-11-10 15:39:57', 'Python', 9.0), (1541882398.560623, '2018-11-10 15:39:58', 'Python', 0.0), (1541882399.5769658, '2018-11-10 15:39:59', 'Python', 9.0), (1541882400.593266, '2018-11-10 15:40:00', 'Python', 7.0), (1541882401.613548, '2018-11-10 15:40:01', 'Python', 6.0), (1541882402.634577, '2018-11-10 15:40:02', 'Python', 7.0), (1541882403.6558561, '2018-11-10 15:40:03', 'Python', 3.0), (1234743323.0, '2016-02-01', 'Python', 5.0), (1541882461.834954, '2018-11-10 15:41:01', 'Python', 1.0), (1541882462.8633826, '2018-11-10 15:41:02', 'Python', 4.0), (1541882463.880699, '2018-11-10 15:41:03', 'Python', 0.0), (1541882464.899924, '2018-11-10 15:41:04', 'Python', 3.0), (1541882465.9213092, '2018-11-10 15:41:05', 'Python', 4.0), (1541882466.9435282, '2018-11-10 15:41:06', 'Python', 5.0), (1541882467.9682996, '2018-11-10 15:41:07', 'Python', 6.0), (1541882468.9846892, '2018-11-10 15:41:08', 'Python', 5.0), (1541882470.0079253, '2018-11-10 15:41:10', 'Python', 0.0), (1541882471.024746, '2018-11-10 15:41:11', 'Python', 8.0), (1541882677.2523806, '2018-11-10 15:44:37', 'Python', 4.0), (1541882678.2754157, '2018-11-10 15:44:38', 'Python', 6.0), (1541882679.2898462, '2018-11-10 15:44:39', 'Python', 2.0), (1541882680.3157144, '2018-11-10 15:44:40', 'Python', 6.0), (1541882681.332024, '2018-11-10 15:44:41', 'Python', 0.0), (1541882682.355179, '2018-11-10 15:44:42', 'Python', 2.0), (1541882683.3813148, '2018-11-10 15:44:43', 'Python', 4.0), (1541882684.3990626, '2018-11-10 15:44:44', 'Python', 3.0), (1541882685.4131944, '2018-11-10 15:44:45', 'Python', 3.0), (1541882686.4314425, '2018-11-10 15:44:46', 'Python', 8.0), (1541882717.7737858, '2018-11-10 15:45:17', 'Python', 6.0), (1541882718.7956173, '2018-11-10 15:45:18', 'Python', 6.0), (1541882719.8116572, '2018-11-10 15:45:19', 'Python', 9.0), (1541882720.8275611, '2018-11-10 15:45:20', 'Python', 5.0), (1541882721.847596, '2018-11-10 15:45:21', 'Python', 5.0), (1541882722.8656487, '2018-11-10 15:45:22', 'Python', 8.0), (1541882723.8852253, '2018-11-10 15:45:23', 'Python', 8.0), (1541882724.9042363, '2018-11-10 15:45:24', 'Python', 0.0), (1541882725.92442, '2018-11-10 15:45:25', 'Python', 2.0), (1541882726.9410126, '2018-11-10 15:45:26', 'Python', 1.0), (1234743323.0, '2016-02-01', 'Python', 5.0), (1541882874.4341648, '2018-11-10 15:47:54', 'Python', 5.0), (1541882875.4569378, '2018-11-10 15:47:55', 'Python', 4.0), (1541882876.475951, '2018-11-10 15:47:56', 'Python', 9.0), (1541882877.4972284, '2018-11-10 15:47:57', 'Python', 2.0), (1541882878.5169573, '2018-11-10 15:47:58', 'Python', 2.0), (1541882879.5381372, '2018-11-10 15:47:59', 'Python', 0.0), (1541882880.5621943, '2018-11-10 15:48:00', 'Python', 9.0), (1541882881.5813468, '2018-11-10 15:48:01', 'Python', 8.0), (1541882882.5965812, '2018-11-10 15:48:02', 'Python', 8.0), (1541882883.6205244, '2018-11-10 15:48:03', 'Python', 3.0), (1541883181.501164, '2018-11-10 15:53:01', 'Python', 3.0), (1541883182.5261295, '2018-11-10 15:53:02', 'Python', 2.0), (1541883183.5400014, '2018-11-10 15:53:03', 'Python', 9.0), (1541883184.5599985, '2018-11-10 15:53:04', 'Python', 2.0), (1541883185.5808625, '2018-11-10 15:53:05', 'Python', 1.0), (1541883186.6020396, '2018-11-10 15:53:06', 'Python', 3.0), (1541883187.6229286, '2018-11-10 15:53:07', 'Python', 2.0), (1541883188.6384916, '2018-11-10 15:53:08', 'Python', 1.0), (1541883189.6555245, '2018-11-10 15:53:09', 'Python', 6.0), (1541883190.6782997, '2018-11-10 15:53:10', 'Python', 2.0)]\n"
     ]
    }
   ],
   "source": [
    "import sqlite3\n",
    "import time\n",
    "import datetime\n",
    "import random\n",
    "\n",
    "conn = sqlite3.connect('tutorial.db')\n",
    "c = conn.cursor()\n",
    "    \n",
    "def read_from_db():\n",
    "    c.execute('SELECT * FROM stuffToPlot')   #Choose everything from the database - but nothing happens yet\n",
    "    data = c.fetchall()\n",
    "    print(data)\n",
    "    \n",
    "read_from_db()\n",
    "c.close()\n",
    "conn.close()    \n",
    "    "
   ]
  },
  {
   "cell_type": "markdown",
   "metadata": {},
   "source": [
    "# Now to interate through the data "
   ]
  },
  {
   "cell_type": "code",
   "execution_count": 25,
   "metadata": {},
   "outputs": [
    {
     "name": "stdout",
     "output_type": "stream",
     "text": [
      "('Python', 1541836620.7171772, 3.0)\n",
      "('Python', 1541882386.213437, 3.0)\n",
      "('Python', 1541882391.3106577, 3.0)\n",
      "('Python', 1541882392.332057, 3.0)\n",
      "('Python', 1541882403.6558561, 3.0)\n",
      "('Python', 1541882464.899924, 3.0)\n",
      "('Python', 1541882684.3990626, 3.0)\n",
      "('Python', 1541882685.4131944, 3.0)\n",
      "('Python', 1541882883.6205244, 3.0)\n",
      "('Python', 1541883181.501164, 3.0)\n",
      "('Python', 1541883186.6020396, 3.0)\n"
     ]
    }
   ],
   "source": [
    "import sqlite3\n",
    "import time\n",
    "import datetime\n",
    "import random\n",
    "\n",
    "conn = sqlite3.connect('tutorial.db')\n",
    "c = conn.cursor()\n",
    "\n",
    "def read_from_db():\n",
    "    c.execute(\"SELECT keyword, unix, value FROM stuffToPlot WHERE value=3 AND keyword='Python'\")   #Choose everything from the database with a * or can list columns in order you want to see them\n",
    "    for row in  c.fetchall():\n",
    "        print(row)\n",
    "\n",
    "read_from_db()\n",
    "c.close()\n",
    "conn.close()    \n",
    "    "
   ]
  },
  {
   "cell_type": "code",
   "execution_count": null,
   "metadata": {},
   "outputs": [],
   "source": []
  },
  {
   "cell_type": "code",
   "execution_count": 26,
   "metadata": {},
   "outputs": [
    {
     "data": {
      "image/png": "[encoded data removed]",
      "text/plain": [
       "<matplotlib.figure.Figure at 0x152bf369470>"
      ]
     },
     "metadata": {},
     "output_type": "display_data"
    }
   ],
   "source": [
    "import sqlite3\n",
    "import time\n",
    "import datetime\n",
    "import random\n",
    "import matplotlib.pyplot as plt\n",
    "import matplotlib.dates as mdates\n",
    "from matplotlib import style\n",
    "style.use('fivethirtyeight')\n",
    "\n",
    "conn = sqlite3.connect('tutorial.db')\n",
    "c = conn.cursor()\n",
    "\n",
    "def graph_data():\n",
    "    c.execute('SELECT unix, value FROM stuffToPlot')\n",
    "    dates = []\n",
    "    values = []\n",
    "    for row in c.fetchall():\n",
    "#        print(row[0])\n",
    "#        print(datetime.datetime.fromtimestamp(row[0]))\n",
    "        dates.append(datetime.datetime.fromtimestamp(row[0]))\n",
    "        values.append(row[1])\n",
    "  \n",
    "    plt.plot_date(dates, values, '-')\n",
    "    plt.show()\n",
    "\n",
    "graph_data()\n",
    "c.close()\n",
    "conn.close()    \n",
    "    "
   ]
  },
  {
   "cell_type": "markdown",
   "metadata": {},
   "source": [
    "# Change data and delete data in database\n",
    "\n",
    "There are NO undo's.  Make sure you've got automatic back ups happening with databases!\n"
   ]
  },
  {
   "cell_type": "code",
   "execution_count": 44,
   "metadata": {},
   "outputs": [
    {
     "name": "stdout",
     "output_type": "stream",
     "text": [
      "(1541836507.427284, '2018-11-10 02:55:07', 'Python', 7.0)\n",
      "(1541836616.642457, '2018-11-10 02:56:56', 'Python', 9.0)\n",
      "(1541836617.6677616, '2018-11-10 02:56:57', 'Python', 9.0)\n",
      "(1541836618.685028, '2018-11-10 02:56:58', 'Python', 5.0)\n",
      "(1541836619.6996024, '2018-11-10 02:56:59', 'Python', 9.0)\n",
      "(1541836620.7171772, '2018-11-10 02:57:00', 'Python', 3.0)\n",
      "(1541836621.734784, '2018-11-10 02:57:01', 'Python', 4.0)\n",
      "(1541836622.7515607, '2018-11-10 02:57:02', 'Python', 4.0)\n",
      "(1541836623.7682765, '2018-11-10 02:57:03', 'Python', 5.0)\n",
      "(1541836624.7837703, '2018-11-10 02:57:04', 'Python', 5.0)\n",
      "(1541836625.797121, '2018-11-10 02:57:05', 'Python', 4.0)\n",
      "(1541882384.1540525, '2018-11-10 15:39:44', 'Python', 1.0)\n",
      "(1541882385.1971858, '2018-11-10 15:39:45', 'Python', 6.0)\n",
      "(1541882386.213437, '2018-11-10 15:39:46', 'Python', 3.0)\n",
      "(1541882387.2339053, '2018-11-10 15:39:47', 'Python', 6.0)\n",
      "(1541882388.2498193, '2018-11-10 15:39:48', 'Python', 5.0)\n",
      "(1541882389.2647538, '2018-11-10 15:39:49', 'Python', 7.0)\n",
      "(1541882390.2847402, '2018-11-10 15:39:50', 'Python', 7.0)\n",
      "(1541882391.3106577, '2018-11-10 15:39:51', 'Python', 3.0)\n",
      "(1541882392.332057, '2018-11-10 15:39:52', 'Python', 3.0)\n",
      "(1541882394.4839618, '2018-11-10 15:39:54', 'Python', 5.0)\n",
      "(1541882395.5037425, '2018-11-10 15:39:55', 'Python', 2.0)\n",
      "(1541882396.521847, '2018-11-10 15:39:56', 'Python', 0.0)\n",
      "(1541882397.542683, '2018-11-10 15:39:57', 'Python', 9.0)\n",
      "(1541882398.560623, '2018-11-10 15:39:58', 'Python', 0.0)\n",
      "(1541882399.5769658, '2018-11-10 15:39:59', 'Python', 9.0)\n",
      "(1541882400.593266, '2018-11-10 15:40:00', 'Python', 7.0)\n",
      "(1541882401.613548, '2018-11-10 15:40:01', 'Python', 6.0)\n",
      "(1541882402.634577, '2018-11-10 15:40:02', 'Python', 7.0)\n",
      "(1541882403.6558561, '2018-11-10 15:40:03', 'Python', 3.0)\n",
      "(1234743323.0, '2016-02-01', 'Python', 5.0)\n",
      "(1541882461.834954, '2018-11-10 15:41:01', 'Python', 1.0)\n",
      "(1541882462.8633826, '2018-11-10 15:41:02', 'Python', 4.0)\n",
      "(1541882463.880699, '2018-11-10 15:41:03', 'Python', 0.0)\n",
      "(1541882464.899924, '2018-11-10 15:41:04', 'Python', 3.0)\n",
      "(1541882465.9213092, '2018-11-10 15:41:05', 'Python', 4.0)\n",
      "(1541882466.9435282, '2018-11-10 15:41:06', 'Python', 5.0)\n",
      "(1541882467.9682996, '2018-11-10 15:41:07', 'Python', 6.0)\n",
      "(1541882468.9846892, '2018-11-10 15:41:08', 'Python', 5.0)\n",
      "(1541882470.0079253, '2018-11-10 15:41:10', 'Python', 0.0)\n",
      "(1541882677.2523806, '2018-11-10 15:44:37', 'Python', 4.0)\n",
      "(1541882678.2754157, '2018-11-10 15:44:38', 'Python', 6.0)\n",
      "(1541882679.2898462, '2018-11-10 15:44:39', 'Python', 2.0)\n",
      "(1541882680.3157144, '2018-11-10 15:44:40', 'Python', 6.0)\n",
      "(1541882681.332024, '2018-11-10 15:44:41', 'Python', 0.0)\n",
      "(1541882682.355179, '2018-11-10 15:44:42', 'Python', 2.0)\n",
      "(1541882683.3813148, '2018-11-10 15:44:43', 'Python', 4.0)\n",
      "(1541882684.3990626, '2018-11-10 15:44:44', 'Python', 3.0)\n",
      "(1541882685.4131944, '2018-11-10 15:44:45', 'Python', 3.0)\n",
      "(1541882717.7737858, '2018-11-10 15:45:17', 'Python', 6.0)\n",
      "(1541882718.7956173, '2018-11-10 15:45:18', 'Python', 6.0)\n",
      "(1541882719.8116572, '2018-11-10 15:45:19', 'Python', 9.0)\n",
      "(1541882720.8275611, '2018-11-10 15:45:20', 'Python', 5.0)\n",
      "(1541882721.847596, '2018-11-10 15:45:21', 'Python', 5.0)\n",
      "(1541882724.9042363, '2018-11-10 15:45:24', 'Python', 0.0)\n",
      "(1541882725.92442, '2018-11-10 15:45:25', 'Python', 2.0)\n",
      "(1541882726.9410126, '2018-11-10 15:45:26', 'Python', 1.0)\n",
      "(1234743323.0, '2016-02-01', 'Python', 5.0)\n",
      "(1541882874.4341648, '2018-11-10 15:47:54', 'Python', 5.0)\n",
      "(1541882875.4569378, '2018-11-10 15:47:55', 'Python', 4.0)\n",
      "(1541882876.475951, '2018-11-10 15:47:56', 'Python', 9.0)\n",
      "(1541882877.4972284, '2018-11-10 15:47:57', 'Python', 2.0)\n",
      "(1541882878.5169573, '2018-11-10 15:47:58', 'Python', 2.0)\n",
      "(1541882879.5381372, '2018-11-10 15:47:59', 'Python', 0.0)\n",
      "(1541882880.5621943, '2018-11-10 15:48:00', 'Python', 9.0)\n",
      "(1541882883.6205244, '2018-11-10 15:48:03', 'Python', 3.0)\n",
      "(1541883181.501164, '2018-11-10 15:53:01', 'Python', 3.0)\n",
      "(1541883182.5261295, '2018-11-10 15:53:02', 'Python', 2.0)\n",
      "(1541883183.5400014, '2018-11-10 15:53:03', 'Python', 9.0)\n",
      "(1541883184.5599985, '2018-11-10 15:53:04', 'Python', 2.0)\n",
      "(1541883185.5808625, '2018-11-10 15:53:05', 'Python', 1.0)\n",
      "(1541883186.6020396, '2018-11-10 15:53:06', 'Python', 3.0)\n",
      "(1541883187.6229286, '2018-11-10 15:53:07', 'Python', 2.0)\n",
      "(1541883188.6384916, '2018-11-10 15:53:08', 'Python', 1.0)\n",
      "(1541883189.6555245, '2018-11-10 15:53:09', 'Python', 6.0)\n",
      "(1541883190.6782997, '2018-11-10 15:53:10', 'Python', 2.0)\n",
      "##################################################\n",
      "(1541882395.5037425, '2018-11-10 15:39:55', 'Python', 2.0)\n",
      "(1541882679.2898462, '2018-11-10 15:44:39', 'Python', 2.0)\n",
      "(1541882682.355179, '2018-11-10 15:44:42', 'Python', 2.0)\n",
      "(1541882725.92442, '2018-11-10 15:45:25', 'Python', 2.0)\n",
      "(1541882877.4972284, '2018-11-10 15:47:57', 'Python', 2.0)\n",
      "(1541882878.5169573, '2018-11-10 15:47:58', 'Python', 2.0)\n",
      "(1541883182.5261295, '2018-11-10 15:53:02', 'Python', 2.0)\n",
      "(1541883184.5599985, '2018-11-10 15:53:04', 'Python', 2.0)\n",
      "(1541883187.6229286, '2018-11-10 15:53:07', 'Python', 2.0)\n",
      "(1541883190.6782997, '2018-11-10 15:53:10', 'Python', 2.0)\n",
      "##################################################\n",
      "10\n"
     ]
    }
   ],
   "source": [
    "import sqlite3\n",
    "import time\n",
    "import datetime\n",
    "import random\n",
    "import matplotlib.pyplot as plt\n",
    "import matplotlib.dates as mdates\n",
    "from matplotlib import style\n",
    "style.use('fivethirtyeight')\n",
    "\n",
    "conn = sqlite3.connect('tutorial.db')\n",
    "c = conn.cursor()\n",
    "\n",
    "def del_and_update():  \n",
    "    c.execute('SELECT * FROM stuffToPlot')\n",
    "    [print(row) for row in c.fetchall()]   #This just selects the rows\n",
    "    \n",
    "#   c.execute('UPDATE stuffToPlot SET value = 99 WHERE value = 8')   #this will change the value to a 99 where the value is and 8\n",
    "#   conn.commit()\n",
    "\n",
    "#    c.execute('SELECT * FROM stuffToPlot')\n",
    "#    [print(row) for row in c.fetchall()]   #This just selects the rows\n",
    "    \n",
    "#    c.execute('DELETE FROM stuffToPlot WHERE value = 99')   #this will delete all where the value is 99\n",
    "#    conn.commit()\n",
    "#    print(50*'#')\n",
    "#    c.execute('SELECT * FROM stuffToPlot')\n",
    "#    [print(row) for row in c.fetchall()]\n",
    "\n",
    "    print(50*'#')\n",
    "\n",
    "    c.execute('SELECT * FROM stuffToPlot WHERE value = 2')   #so do this first to see how many records you will be updating/deleting\n",
    "    [print(row) for row in c.fetchall()]\n",
    "    print(50*'#')\n",
    "\n",
    "    c.execute('SELECT * FROM stuffToPlot WHERE value = 2')  # this will display the number of records so you have a size\n",
    "    print(len(c.fetchall()))\n",
    "\n",
    "del_and_update()\n",
    "c.close()\n",
    "conn.close()    \n",
    "    "
   ]
  },
  {
   "cell_type": "markdown",
   "metadata": {},
   "source": [
    "# This is courtesy of the tutorials from pythonprogramming.net"
   ]
  },
  {
   "cell_type": "code",
   "execution_count": null,
   "metadata": {},
   "outputs": [],
   "source": []
  }
 ],
 "metadata": {
  "kernelspec": {
   "display_name": "Python 3",
   "language": "python",
   "name": "python3"
  },
  "language_info": {
   "codemirror_mode": {
    "name": "ipython",
    "version": 3
   },
   "file_extension": ".py",
   "mimetype": "text/x-python",
   "name": "python",
   "nbconvert_exporter": "python",
   "pygments_lexer": "ipython3",
   "version": "3.6.4"
  }
 },
 "nbformat": 4,
 "nbformat_minor": 2
}
