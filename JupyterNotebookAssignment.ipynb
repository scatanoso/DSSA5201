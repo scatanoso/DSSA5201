{
 "cells": [
  {
   "cell_type": "markdown",
   "metadata": {},
   "source": [
    "## DSSA-5102-091 Assignment 2 - Jupyter Notebook\n",
    "Practice\n",
    "\n",
    "I used Jupyter Notebook in Juypter Labs to run some of the Python lessons I have been working on in Data Camp. \n",
    "\n",
    "## Use functions inside of other functions.\n"
   ]
  },
  {
   "cell_type": "code",
   "execution_count": 5,
   "metadata": {},
   "outputs": [
    {
     "name": "stdout",
     "output_type": "stream",
     "text": [
      "<class 'list'>\n",
      "4\n",
      "1\n",
      "<class 'int'>\n"
     ]
    }
   ],
   "source": [
    "var1 = [1,2,3,4]\n",
    "var2 = True\n",
    "\n",
    "print(type(var1))\n",
    "print(len(var1))\n",
    "\n",
    "out2 = int(var2)\n",
    "print(out2)\n",
    "print(type(out2))"
   ]
  },
  {
   "cell_type": "markdown",
   "metadata": {},
   "source": [
    "## Create two lists, combine them, sort them in descending order and then print the result"
   ]
  },
  {
   "cell_type": "code",
   "execution_count": 7,
   "metadata": {},
   "outputs": [
    {
     "name": "stdout",
     "output_type": "stream",
     "text": [
      "[20.0, 18.0, 11.25, 10.75, 9.5]\n"
     ]
    }
   ],
   "source": [
    "first = [11.25, 18.0, 20.0]\n",
    "second = [10.75, 9.50]\n",
    "full = first + second\n",
    "full_sorted = sorted(full, reverse=True)\n",
    "print(full_sorted)"
   ]
  },
  {
   "cell_type": "markdown",
   "metadata": {},
   "source": [
    "## String methods examples"
   ]
  },
  {
   "cell_type": "code",
   "execution_count": 13,
   "metadata": {},
   "outputs": [
    {
     "name": "stdout",
     "output_type": "stream",
     "text": [
      "poolhouse\n",
      "POOLHOUSE\n",
      "0\n",
      "3\n"
     ]
    }
   ],
   "source": [
    "place = \"poolhouse\"\n",
    "place_up = str.upper(place)\n",
    "print(place)\n",
    "print(place_up)\n",
    "print(place.count(\"O\"))\n",
    "print(place_up.count(\"O\"))"
   ]
  },
  {
   "cell_type": "markdown",
   "metadata": {},
   "source": [
    "## List methods examples"
   ]
  },
  {
   "cell_type": "code",
   "execution_count": 14,
   "metadata": {},
   "outputs": [
    {
     "name": "stdout",
     "output_type": "stream",
     "text": [
      "2\n",
      "1\n"
     ]
    }
   ],
   "source": [
    "areas=[11.25, 18.0, 20.0, 10.75, 9.50]\n",
    "print(areas.index(20.0))\n",
    "print(areas.count(9.50))"
   ]
  },
  {
   "cell_type": "code",
   "execution_count": 16,
   "metadata": {},
   "outputs": [
    {
     "name": "stdout",
     "output_type": "stream",
     "text": [
      "[11.25, 18.0, 20.0, 10.75, 9.5, 24.5, 15.45]\n",
      "[15.45, 24.5, 9.5, 10.75, 20.0, 18.0, 11.25]\n"
     ]
    }
   ],
   "source": [
    "areas = [11.25, 18.0, 20.0, 10.75, 9.50]\n",
    "areas.append(24.5)\n",
    "areas.append(15.45)\n",
    "print(areas)\n",
    "areas.reverse()\n",
    "print(areas)"
   ]
  },
  {
   "cell_type": "markdown",
   "metadata": {},
   "source": [
    "## Importing and using a package\n"
   ]
  },
  {
   "cell_type": "code",
   "execution_count": 2,
   "metadata": {},
   "outputs": [
    {
     "name": "stdout",
     "output_type": "stream",
     "text": [
      "Circumference: 2.701769682087222\n",
      "Area:  2.701769682087222\n"
     ]
    }
   ],
   "source": [
    "r = 0.43\n",
    "import math\n",
    "C = 2 * math.pi *r\n",
    "A = math.pi * (r*2)\n",
    "print(\"Circumference: \" + str(C))\n",
    "print(\"Area:  \" + str(A))"
   ]
  },
  {
   "cell_type": "code",
   "execution_count": 3,
   "metadata": {},
   "outputs": [
    {
     "name": "stdout",
     "output_type": "stream",
     "text": [
      "40317.10572106901\n"
     ]
    }
   ],
   "source": [
    "r = 192500\n",
    "from math import radians\n",
    "phi = radians(12)\n",
    "dist = r * phi\n",
    "print(dist)"
   ]
  },
  {
   "cell_type": "code",
   "execution_count": null,
   "metadata": {},
   "outputs": [],
   "source": [
    "\n"
   ]
  }
 ],
 "metadata": {
  "kernelspec": {
   "display_name": "Python 3",
   "language": "python",
   "name": "python3"
  },
  "language_info": {
   "codemirror_mode": {
    "name": "ipython",
    "version": 3
   },
   "file_extension": ".py",
   "mimetype": "text/x-python",
   "name": "python",
   "nbconvert_exporter": "python",
   "pygments_lexer": "ipython3",
   "version": "3.6.4"
  }
 },
 "nbformat": 4,
 "nbformat_minor": 2
}
